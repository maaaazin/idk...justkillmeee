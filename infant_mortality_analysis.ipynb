{
 "cells": [
  {
   "cell_type": "code",
   "execution_count": 5,
   "metadata": {},
   "outputs": [
    {
     "ename": "OSError",
     "evalue": "'seaborn' is not a valid package style, path of style file, URL of style file, or library style name (library styles are listed in `style.available`)",
     "output_type": "error",
     "traceback": [
      "\u001b[31m---------------------------------------------------------------------------\u001b[39m",
      "\u001b[31mFileNotFoundError\u001b[39m                         Traceback (most recent call last)",
      "\u001b[36mFile \u001b[39m\u001b[32mc:\\Users\\maazi\\Desktop\\PBL-final-cursor\\venv\\Lib\\site-packages\\matplotlib\\style\\core.py:129\u001b[39m, in \u001b[36muse\u001b[39m\u001b[34m(style)\u001b[39m\n\u001b[32m    128\u001b[39m \u001b[38;5;28;01mtry\u001b[39;00m:\n\u001b[32m--> \u001b[39m\u001b[32m129\u001b[39m     style = \u001b[43m_rc_params_in_file\u001b[49m\u001b[43m(\u001b[49m\u001b[43mstyle\u001b[49m\u001b[43m)\u001b[49m\n\u001b[32m    130\u001b[39m \u001b[38;5;28;01mexcept\u001b[39;00m \u001b[38;5;167;01mOSError\u001b[39;00m \u001b[38;5;28;01mas\u001b[39;00m err:\n",
      "\u001b[36mFile \u001b[39m\u001b[32mc:\\Users\\maazi\\Desktop\\PBL-final-cursor\\venv\\Lib\\site-packages\\matplotlib\\__init__.py:903\u001b[39m, in \u001b[36m_rc_params_in_file\u001b[39m\u001b[34m(fname, transform, fail_on_error)\u001b[39m\n\u001b[32m    902\u001b[39m rc_temp = {}\n\u001b[32m--> \u001b[39m\u001b[32m903\u001b[39m \u001b[43m\u001b[49m\u001b[38;5;28;43;01mwith\u001b[39;49;00m\u001b[43m \u001b[49m\u001b[43m_open_file_or_url\u001b[49m\u001b[43m(\u001b[49m\u001b[43mfname\u001b[49m\u001b[43m)\u001b[49m\u001b[43m \u001b[49m\u001b[38;5;28;43;01mas\u001b[39;49;00m\u001b[43m \u001b[49m\u001b[43mfd\u001b[49m\u001b[43m:\u001b[49m\n\u001b[32m    904\u001b[39m \u001b[43m    \u001b[49m\u001b[38;5;28;43;01mtry\u001b[39;49;00m\u001b[43m:\u001b[49m\n",
      "\u001b[36mFile \u001b[39m\u001b[32mC:\\Program Files\\WindowsApps\\PythonSoftwareFoundation.Python.3.12_3.12.2800.0_x64__qbz5n2kfra8p0\\Lib\\contextlib.py:137\u001b[39m, in \u001b[36m_GeneratorContextManager.__enter__\u001b[39m\u001b[34m(self)\u001b[39m\n\u001b[32m    136\u001b[39m \u001b[38;5;28;01mtry\u001b[39;00m:\n\u001b[32m--> \u001b[39m\u001b[32m137\u001b[39m     \u001b[38;5;28;01mreturn\u001b[39;00m \u001b[38;5;28;43mnext\u001b[39;49m\u001b[43m(\u001b[49m\u001b[38;5;28;43mself\u001b[39;49m\u001b[43m.\u001b[49m\u001b[43mgen\u001b[49m\u001b[43m)\u001b[49m\n\u001b[32m    138\u001b[39m \u001b[38;5;28;01mexcept\u001b[39;00m \u001b[38;5;167;01mStopIteration\u001b[39;00m:\n",
      "\u001b[36mFile \u001b[39m\u001b[32mc:\\Users\\maazi\\Desktop\\PBL-final-cursor\\venv\\Lib\\site-packages\\matplotlib\\__init__.py:880\u001b[39m, in \u001b[36m_open_file_or_url\u001b[39m\u001b[34m(fname)\u001b[39m\n\u001b[32m    879\u001b[39m fname = os.path.expanduser(fname)\n\u001b[32m--> \u001b[39m\u001b[32m880\u001b[39m \u001b[38;5;28;01mwith\u001b[39;00m \u001b[38;5;28;43mopen\u001b[39;49m\u001b[43m(\u001b[49m\u001b[43mfname\u001b[49m\u001b[43m,\u001b[49m\u001b[43m \u001b[49m\u001b[43mencoding\u001b[49m\u001b[43m=\u001b[49m\u001b[33;43m'\u001b[39;49m\u001b[33;43mutf-8\u001b[39;49m\u001b[33;43m'\u001b[39;49m\u001b[43m)\u001b[49m \u001b[38;5;28;01mas\u001b[39;00m f:\n\u001b[32m    881\u001b[39m     \u001b[38;5;28;01myield\u001b[39;00m f\n",
      "\u001b[31mFileNotFoundError\u001b[39m: [Errno 2] No such file or directory: 'seaborn'",
      "\nThe above exception was the direct cause of the following exception:\n",
      "\u001b[31mOSError\u001b[39m                                   Traceback (most recent call last)",
      "\u001b[36mCell\u001b[39m\u001b[36m \u001b[39m\u001b[32mIn[5]\u001b[39m\u001b[32m, line 15\u001b[39m\n\u001b[32m     12\u001b[39m \u001b[38;5;28;01mfrom\u001b[39;00m\u001b[38;5;250m \u001b[39m\u001b[34;01msklearn\u001b[39;00m\u001b[34;01m.\u001b[39;00m\u001b[34;01mmodel_selection\u001b[39;00m\u001b[38;5;250m \u001b[39m\u001b[38;5;28;01mimport\u001b[39;00m GridSearchCV\n\u001b[32m     14\u001b[39m \u001b[38;5;66;03m# Set plot style\u001b[39;00m\n\u001b[32m---> \u001b[39m\u001b[32m15\u001b[39m \u001b[43mplt\u001b[49m\u001b[43m.\u001b[49m\u001b[43mstyle\u001b[49m\u001b[43m.\u001b[49m\u001b[43muse\u001b[49m\u001b[43m(\u001b[49m\u001b[33;43m'\u001b[39;49m\u001b[33;43mseaborn\u001b[39;49m\u001b[33;43m'\u001b[39;49m\u001b[43m)\u001b[49m\n\u001b[32m     16\u001b[39m sns.set_palette(\u001b[33m'\u001b[39m\u001b[33mcoolwarm\u001b[39m\u001b[33m'\u001b[39m)\n",
      "\u001b[36mFile \u001b[39m\u001b[32mc:\\Users\\maazi\\Desktop\\PBL-final-cursor\\venv\\Lib\\site-packages\\matplotlib\\style\\core.py:131\u001b[39m, in \u001b[36muse\u001b[39m\u001b[34m(style)\u001b[39m\n\u001b[32m    129\u001b[39m         style = _rc_params_in_file(style)\n\u001b[32m    130\u001b[39m     \u001b[38;5;28;01mexcept\u001b[39;00m \u001b[38;5;167;01mOSError\u001b[39;00m \u001b[38;5;28;01mas\u001b[39;00m err:\n\u001b[32m--> \u001b[39m\u001b[32m131\u001b[39m         \u001b[38;5;28;01mraise\u001b[39;00m \u001b[38;5;167;01mOSError\u001b[39;00m(\n\u001b[32m    132\u001b[39m             \u001b[33mf\u001b[39m\u001b[33m\"\u001b[39m\u001b[38;5;132;01m{\u001b[39;00mstyle\u001b[38;5;132;01m!r}\u001b[39;00m\u001b[33m is not a valid package style, path of style \u001b[39m\u001b[33m\"\u001b[39m\n\u001b[32m    133\u001b[39m             \u001b[33mf\u001b[39m\u001b[33m\"\u001b[39m\u001b[33mfile, URL of style file, or library style name (library \u001b[39m\u001b[33m\"\u001b[39m\n\u001b[32m    134\u001b[39m             \u001b[33mf\u001b[39m\u001b[33m\"\u001b[39m\u001b[33mstyles are listed in `style.available`)\u001b[39m\u001b[33m\"\u001b[39m) \u001b[38;5;28;01mfrom\u001b[39;00m\u001b[38;5;250m \u001b[39m\u001b[34;01merr\u001b[39;00m\n\u001b[32m    135\u001b[39m filtered = {}\n\u001b[32m    136\u001b[39m \u001b[38;5;28;01mfor\u001b[39;00m k \u001b[38;5;129;01min\u001b[39;00m style:  \u001b[38;5;66;03m# don't trigger RcParams.__getitem__('backend')\u001b[39;00m\n",
      "\u001b[31mOSError\u001b[39m: 'seaborn' is not a valid package style, path of style file, URL of style file, or library style name (library styles are listed in `style.available`)"
     ]
    }
   ],
   "source": [
    "import pandas as pd\n",
    "import numpy as np\n",
    "import seaborn as sns\n",
    "import matplotlib.pyplot as plt\n",
    "from pandas.plotting import parallel_coordinates\n",
    "from sklearn.model_selection import train_test_split\n",
    "from sklearn.preprocessing import StandardScaler\n",
    "from sklearn.ensemble import RandomForestRegressor, GradientBoostingRegressor\n",
    "from sklearn.svm import SVR\n",
    "from sklearn.feature_selection import RFE\n",
    "from sklearn.metrics import mean_absolute_error, mean_squared_error, r2_score\n",
    "from sklearn.model_selection import GridSearchCV\n",
    "\n",
    "# Set plot style\n",
    "plt.style.use('seaborn')\n",
    "sns.set_palette('coolwarm')\n"
   ]
  },
  {
   "cell_type": "code",
   "execution_count": null,
   "metadata": {},
   "outputs": [],
   "source": [
    "df = pd.read_csv(\"Total_Data (1).csv\")\n",
    "df = df.loc[:, ~df.columns.str.contains('Unnamed')]\n",
    "df_numeric = df.select_dtypes(include=[np.number])\n",
    "\n",
    "# Drop missing target values\n",
    "df_cleaned = df.dropna(subset=[\"Infant mortality rate (per 1000 live births)\"])\n",
    "\n",
    "# Get top features\n",
    "top_features = df_numeric.corr()[\"Infant mortality rate (per 1000 live births)\"].abs().sort_values(ascending=False).index[1:11]\n",
    "\n",
    "print(\"Top 10 features:\")\n",
    "for i, feature in enumerate(top_features, 1):\n",
    "    print(f\"{i}. {feature}\")"
   ]
  },
  {
   "cell_type": "code",
   "execution_count": null,
   "metadata": {},
   "outputs": [],
   "source": [
    "fig, axes = plt.subplots(nrows=5, ncols=2, figsize=(16, 20), constrained_layout=True)\n",
    "axes = axes.flatten()\n",
    "\n",
    "for i, feature in enumerate(top_features):\n",
    "    sns.histplot(df_cleaned[feature], bins=20, ax=axes[i], color='skyblue', edgecolor='black')\n",
    "    axes[i].set_title(feature, fontsize=12)\n",
    "    axes[i].tick_params(axis='x', rotation=45)\n",
    "\n",
    "# Hide any unused subplots\n",
    "for j in range(i + 1, len(axes)):\n",
    "    fig.delaxes(axes[j])\n",
    "\n",
    "plt.show()"
   ]
  },
  {
   "cell_type": "code",
   "execution_count": null,
   "metadata": {},
   "outputs": [],
   "source": [
    "plt.figure(figsize=(14, 10))\n",
    "sns.heatmap(df_cleaned[top_features.tolist() + [\"Infant mortality rate (per 1000 live births)\"]].corr(), \n",
    "            annot=True, cmap=\"coolwarm\", fmt=\".2f\", linewidths=0.5, cbar=True, \n",
    "            annot_kws={\"size\": 10}, square=True)\n",
    "\n",
    "plt.title(\"Correlation Heatmap (Top Features)\", fontsize=14)\n",
    "plt.xticks(fontsize=10, rotation=45, ha='right')\n",
    "plt.yticks(fontsize=10)\n",
    "plt.show()"
   ]
  },
  {
   "cell_type": "code",
   "execution_count": null,
   "metadata": {},
   "outputs": [],
   "source": [
    "# Define Selected Features\n",
    "selected_features = [\n",
    "    \"Women (age 15-49 years) having a mobile phone that they themselves use (%)\",\n",
    "    \"Women (age 15-49)  with 10 or more years of schooling (%)\",\n",
    "    \"Men (age 15-49)  with 10 or more years of schooling (%)\",\n",
    "    \"Population below age 15 years (%)\",\n",
    "    \"Children under age 3 years breastfed within one hour of birth15 (%)\",\n",
    "    \"Births delivered by caesarean section (in the 5 years before the survey) (%)\",\n",
    "    \"Total children age 6-23 months receiving an adequate diet16, 17  (%)\",\n",
    "    \"Children who received postnatal care from a doctor/nurse/LHV/ANM/midwife/ other health personnel within 2 days of delivery (for last birth in the 5 years before the survey) (%)\",\n",
    "    \"Mothers who had at least 4 antenatal care visits  (for last birth in the 5 years before the survey) (%)\",\n",
    "    \"Institutional births (in the 5 years before the survey) (%)\",\n",
    "    \"Children age 12-23 months who have received 3 doses of penta or DPT vaccine (%)\",\n",
    "    \"Women (age 15-49) who are literate4 (%)\",\n",
    "    \"Mothers who consumed iron folic acid for 100 days or more when they were pregnant (for last birth in the 5 years before the survey) (%)\",\n",
    "    \"Children age 12-23 months who have received BCG (%)\",\n",
    "    \"Children age 12-23 months who have received the first dose of measles-containing vaccine (MCV) (%)\",\n",
    "    \"Children age 24-35 months who have received a second dose of measles-containing vaccine (MCV) (%)\",\n",
    "    \"Children age 12-23 months who have received 3 doses of penta or hepatitis B vaccine (%)\",\n",
    "    \"Children age 9-35 months who received a vitamin A dose in the last 6 months (%)\",\n",
    "    \"Children age 12-23 months who received most of their vaccinations in a public health facility (%)\",\n",
    "    \"Children age 12-23 months who received most of their vaccinations in a private health facility (%)\",\n",
    "    \"Births in a private health facility that were delivered by caesarean section (in the 5 years before the survey) (%)\",\n",
    "    \"Children under 5 years who are underweight (weight-for-age)18 (%)\",\n",
    "    \"Children under 5 years who are stunted (height-for-age)18 (%)\",\n",
    "    \"Children under 5 years who are overweight (weight-for-height)20 (%)\",\n",
    "    \"Currently married women (age 15-49 years) who usually participate in three household decisions25 (%)\"\n",
    "]\n",
    "\n",
    "# Feature Engineering\n",
    "df['Literacy_gap'] = df[\"Men (age 15-49) who are literate4 (%)\"] - df[\"Women (age 15-49) who are literate4 (%)\"]\n",
    "df['Nutrition_score'] = (df['Children under 5 years who are stunted (height-for-age)18 (%)'] + \n",
    "                         df['Children under 5 years who are underweight (weight-for-age)18 (%)']) / 2\n",
    "\n",
    "# Ensure these features exist in df_cleaned\n",
    "df_cleaned['Literacy_gap'] = df['Literacy_gap']\n",
    "df_cleaned['Nutrition_score'] = df['Nutrition_score']\n",
    "\n",
    "selected_features.extend([\"Literacy_gap\", \"Nutrition_score\"])\n",
    "\n",
    "print(\"Total number of features:\", len(selected_features))"
   ]
  },
  {
   "cell_type": "code",
   "execution_count": null,
   "metadata": {},
   "outputs": [],
   "source": [
    "X = df[selected_features]\n",
    "y = df[\"Infant mortality rate (per 1000 live births)\"]\n",
    "\n",
    "# Train-Test Split\n",
    "X_train, X_test, y_train, y_test = train_test_split(X, y, test_size=0.2, random_state=42)\n",
    "\n",
    "# Feature Scaling\n",
    "scaler = StandardScaler()\n",
    "X_train_scaled = scaler.fit_transform(X_train)\n",
    "X_test_scaled = scaler.transform(X_test)\n",
    "\n",
    "# Feature Selection\n",
    "model = RandomForestRegressor(n_estimators=100, random_state=42)\n",
    "rfe = RFE(model, n_features_to_select=10)\n",
    "X_selected = rfe.fit_transform(X, y)\n",
    "selected_indices = rfe.get_support(indices=True)\n",
    "final_selected_features = [selected_features[i] for i in selected_indices]\n",
    "\n",
    "print(\"Selected features:\")\n",
    "for i, feature in enumerate(final_selected_features, 1):\n",
    "    print(f\"{i}. {feature}\")"
   ]
  },
  {
   "cell_type": "code",
   "execution_count": 4,
   "metadata": {},
   "outputs": [
    {
     "ename": "NameError",
     "evalue": "name 'X_train_scaled' is not defined",
     "output_type": "error",
     "traceback": [
      "\u001b[31m---------------------------------------------------------------------------\u001b[39m",
      "\u001b[31mNameError\u001b[39m                                 Traceback (most recent call last)",
      "\u001b[36mCell\u001b[39m\u001b[36m \u001b[39m\u001b[32mIn[4]\u001b[39m\u001b[32m, line 3\u001b[39m\n\u001b[32m      1\u001b[39m \u001b[38;5;66;03m# Train Random Forest Model\u001b[39;00m\n\u001b[32m      2\u001b[39m rf_model = RandomForestRegressor(n_estimators=\u001b[32m200\u001b[39m, random_state=\u001b[32m42\u001b[39m, max_depth=\u001b[32m10\u001b[39m, min_samples_split=\u001b[32m3\u001b[39m, min_samples_leaf=\u001b[32m2\u001b[39m)\n\u001b[32m----> \u001b[39m\u001b[32m3\u001b[39m rf_model.fit(\u001b[43mX_train_scaled\u001b[49m, y_train)\n\u001b[32m      4\u001b[39m y_pred = rf_model.predict(X_test_scaled)\n\u001b[32m      6\u001b[39m \u001b[38;5;66;03m# Evaluation Metrics\u001b[39;00m\n",
      "\u001b[31mNameError\u001b[39m: name 'X_train_scaled' is not defined"
     ]
    }
   ],
   "source": [
    "# Train Random Forest Model\n",
    "rf_model = RandomForestRegressor(n_estimators=200, random_state=42, max_depth=10, min_samples_split=3, min_samples_leaf=2)\n",
    "rf_model.fit(X_train_scaled, y_train)\n",
    "y_pred = rf_model.predict(X_test_scaled)\n",
    "\n",
    "# Evaluation Metrics\n",
    "print(\"Random Forest Performance:\")\n",
    "print(f\"MAE: {mean_absolute_error(y_test, y_pred):.2f}\")\n",
    "print(f\"RMSE: {np.sqrt(mean_squared_error(y_test, y_pred)):.2f}\")\n",
    "print(f\"R²: {r2_score(y_test, y_pred):.2f}\")"
   ]
  },
  {
   "cell_type": "code",
   "execution_count": null,
   "metadata": {},
   "outputs": [],
   "source": [
    "svr_model = SVR(kernel='rbf', C=100, gamma=0.1, epsilon=0.1)\n",
    "svr_model.fit(X_train_scaled, y_train)\n",
    "svr_pred = svr_model.predict(X_test_scaled)\n",
    "\n",
    "# Evaluate SVR model\n",
    "print(\"\\nSVR Performance:\")\n",
    "print(f\"MAE: {mean_absolute_error(y_test, svr_pred):.2f}\")\n",
    "print(f\"RMSE: {np.sqrt(mean_squared_error(y_test, svr_pred)):.2f}\")\n",
    "print(f\"R²: {r2_score(y_test, svr_pred):.2f}\")"
   ]
  },
  {
   "cell_type": "code",
   "execution_count": null,
   "metadata": {},
   "outputs": [],
   "source": [
    "gbr = GradientBoostingRegressor(n_estimators=50, learning_rate=0.02, max_depth=3, random_state=42)\n",
    "gbr.fit(X_selected, y)\n",
    "print(\"Gradient Boosting R²:\", gbr.score(X_selected, y))"
   ]
  },
  {
   "cell_type": "code",
   "execution_count": null,
   "metadata": {},
   "outputs": [],
   "source": [
    "# Hyperparameter Tuning for SVR\n",
    "svr_param_grid = {\n",
    "    'C': [0.1, 1, 10, 100],\n",
    "    'gamma': [0.01, 0.1, 1],\n",
    "    'epsilon': [0.01, 0.1, 0.2]\n",
    "}\n",
    "svr_grid_search = GridSearchCV(SVR(kernel='rbf'), svr_param_grid, cv=5, n_jobs=-1, scoring='r2')\n",
    "svr_grid_search.fit(X_train_scaled, y_train)\n",
    "\n",
    "print(\"Best SVR Parameters:\", svr_grid_search.best_params_)\n",
    "print(\"Best SVR Score:\", svr_grid_search.best_score_)"
   ]
  },
  {
   "cell_type": "code",
   "execution_count": null,
   "metadata": {},
   "outputs": [],
   "source": [
    "# Hyperparameter Tuning for Gradient Boosting\n",
    "param_grid = {\n",
    "    'n_estimators': [100, 200, 400],\n",
    "    'max_depth': [3, 5, 10],\n",
    "    'learning_rate': [0.01, 0.02, 0.1]\n",
    "}\n",
    "grid_search = GridSearchCV(GradientBoostingRegressor(random_state=42), param_grid, cv=5, n_jobs=-1, scoring='r2')\n",
    "grid_search.fit(X_selected, y)\n",
    "\n",
    "print(\"Best GB Parameters:\", grid_search.best_params_)"
   ]
  },
  {
   "cell_type": "code",
   "execution_count": 2,
   "metadata": {},
   "outputs": [
    {
     "ename": "NameError",
     "evalue": "name 'rf_model' is not defined",
     "output_type": "error",
     "traceback": [
      "\u001b[31m---------------------------------------------------------------------------\u001b[39m",
      "\u001b[31mNameError\u001b[39m                                 Traceback (most recent call last)",
      "\u001b[36mCell\u001b[39m\u001b[36m \u001b[39m\u001b[32mIn[2]\u001b[39m\u001b[32m, line 4\u001b[39m\n\u001b[32m      1\u001b[39m \u001b[38;5;28;01mimport\u001b[39;00m\u001b[38;5;250m \u001b[39m\u001b[34;01mjoblib\u001b[39;00m\n\u001b[32m      3\u001b[39m \u001b[38;5;66;03m# Save models and scaler\u001b[39;00m\n\u001b[32m----> \u001b[39m\u001b[32m4\u001b[39m joblib.dump(\u001b[43mrf_model\u001b[49m, \u001b[33m'\u001b[39m\u001b[33mrf_model.joblib\u001b[39m\u001b[33m'\u001b[39m)\n\u001b[32m      5\u001b[39m joblib.dump(svr_model, \u001b[33m'\u001b[39m\u001b[33msvr_model.joblib\u001b[39m\u001b[33m'\u001b[39m)\n\u001b[32m      6\u001b[39m joblib.dump(gbr, \u001b[33m'\u001b[39m\u001b[33mgbr_model.joblib\u001b[39m\u001b[33m'\u001b[39m)\n",
      "\u001b[31mNameError\u001b[39m: name 'rf_model' is not defined"
     ]
    }
   ],
   "source": [
    "import joblib\n",
    "\n",
    "# Save models and scaler\n",
    "joblib.dump(rf_model, 'rf_model.joblib')\n",
    "joblib.dump(svr_model, 'svr_model.joblib')\n",
    "joblib.dump(gbr, 'gbr_model.joblib')\n",
    "joblib.dump(scaler, 'scaler.joblib')\n",
    "joblib.dump(selected_features, 'selected_features.joblib')\n",
    "joblib.dump(top_features, 'top_features.joblib')\n",
    "\n",
    "print(\"Models and scaler saved successfully!\") "
   ]
  },
  {
   "cell_type": "code",
   "execution_count": null,
   "metadata": {},
   "outputs": [],
   "source": []
  }
 ],
 "metadata": {
  "kernelspec": {
   "display_name": "venv",
   "language": "python",
   "name": "python3"
  },
  "language_info": {
   "codemirror_mode": {
    "name": "ipython",
    "version": 3
   },
   "file_extension": ".py",
   "mimetype": "text/x-python",
   "name": "python",
   "nbconvert_exporter": "python",
   "pygments_lexer": "ipython3",
   "version": "3.12.10"
  }
 },
 "nbformat": 4,
 "nbformat_minor": 2
}
